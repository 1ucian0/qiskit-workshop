{
 "cells": [
  {
   "cell_type": "code",
   "execution_count": 1,
   "metadata": {},
   "outputs": [],
   "source": [
    "%matplotlib inline\n",
    "# Importing standard Qiskit libraries and configuring account\n",
    "from qiskit import QuantumCircuit, QuantumRegister, ClassicalRegister, execute, Aer, IBMQ\n",
    "from qiskit.compiler import transpile, assemble\n",
    "\n",
    "from qiskit.tools.jupyter import *\n",
    "from qiskit.visualization import *\n",
    "# Loading your IBM Q account(s)\n",
    "IBMQ.load_accounts()\n",
    "\n",
    "# Load simulator\n",
    "local_simulator = Aer.get_backend('qasm_simulator')"
   ]
  },
  {
   "cell_type": "markdown",
   "metadata": {},
   "source": [
    "# Introduction"
   ]
  },
  {
   "cell_type": "code",
   "execution_count": null,
   "metadata": {},
   "outputs": [],
   "source": [
    "qr = QuantumRegister(2, name=\"q\")\n",
    "cr = ClassicalRegister(1, name=\"result\")\n",
    "circuit = QuantumCircuit(qr, cr)\n",
    "circuit.x(qr)\n",
    "circuit.measure(qr[0], cr)\n",
    "circuit.draw()"
   ]
  },
  {
   "cell_type": "code",
   "execution_count": null,
   "metadata": {},
   "outputs": [],
   "source": [
    "job = execute(circuit, backend=local_simulator)\n",
    "job.result().get_counts()"
   ]
  },
  {
   "cell_type": "markdown",
   "metadata": {},
   "source": [
    "# Bloch sphere"
   ]
  },
  {
   "cell_type": "code",
   "execution_count": null,
   "metadata": {},
   "outputs": [],
   "source": [
    "from qiskit import BasicAer\n",
    "backend_sv_sim = BasicAer.get_backend('statevector_simulator')\n",
    "qr = QuantumRegister(1)\n",
    "circ = QuantumCircuit(qr)\n",
    "#circ.x(qr)\n",
    "#circ.z(qr)\n",
    "#circ.y(qr)\n",
    "result = execute(circ, backend_sv_sim).result()\n",
    "plot_bloch_multivector(result.get_statevector())"
   ]
  },
  {
   "cell_type": "code",
   "execution_count": null,
   "metadata": {},
   "outputs": [],
   "source": [
    "from qiskit import BasicAer\n",
    "backend_sv_sim = BasicAer.get_backend('statevector_simulator')\n",
    "qr = QuantumRegister(3)\n",
    "cr = ClassicalRegister(3)\n",
    "circ = QuantumCircuit(qr, cr)\n",
    "circ.h(qr[0])\n",
    "circ.h(qr[1])\n",
    "circ.h(qr[2])\n",
    "# circ.measure(qr, cr)\n",
    "result = execute(circ, backend_sv_sim).result()\n",
    "for i in result.get_statevector():\n",
    "    print(i)"
   ]
  },
  {
   "cell_type": "markdown",
   "metadata": {},
   "source": [
    "## Oracle 1: Constant zero"
   ]
  },
  {
   "cell_type": "code",
   "execution_count": null,
   "metadata": {},
   "outputs": [],
   "source": [
    "input = QuantumRegister(1, name='input')\n",
    "temp = QuantumRegister(1, name='temp')\n",
    "constant0 = QuantumCircuit(input, temp, name='oracle')\n",
    "oracle = constant0.to_instruction()\n",
    "identity.draw()"
   ]
  },
  {
   "cell_type": "markdown",
   "metadata": {},
   "source": [
    "## Oracle 2: Identity"
   ]
  },
  {
   "cell_type": "code",
   "execution_count": null,
   "metadata": {},
   "outputs": [],
   "source": [
    "input = QuantumRegister(1, name='input')\n",
    "temp = QuantumRegister(1, name='temp')\n",
    "identity = QuantumCircuit(input, temp, name='oracle')\n",
    "identity.cx(input, temp)\n",
    "oracle = identity.to_instruction()\n",
    "identity.draw()"
   ]
  },
  {
   "cell_type": "markdown",
   "metadata": {},
   "source": [
    "## Oracle 3: Invert"
   ]
  },
  {
   "cell_type": "code",
   "execution_count": null,
   "metadata": {},
   "outputs": [],
   "source": [
    "input = QuantumRegister(1, name='input')\n",
    "temp = QuantumRegister(1, name='temp')\n",
    "invert = QuantumCircuit(input, temp, name='oracle')\n",
    "invert.cx(input, temp)\n",
    "invert.x(temp)\n",
    "oracle = identity.to_instruction()\n",
    "invert.draw()"
   ]
  },
  {
   "cell_type": "markdown",
   "metadata": {},
   "source": [
    "## Oracle 4: Constant one"
   ]
  },
  {
   "cell_type": "code",
   "execution_count": null,
   "metadata": {},
   "outputs": [],
   "source": [
    "input = QuantumRegister(1, name='input')\n",
    "temp = QuantumRegister(1, name='temp')\n",
    "constant1 = QuantumCircuit(input, temp, name='oracle')\n",
    "constant1.x(temp)\n",
    "oracle = constant1.to_instruction()\n",
    "constant1.draw()"
   ]
  },
  {
   "cell_type": "markdown",
   "metadata": {},
   "source": [
    "## Run an oracle"
   ]
  },
  {
   "cell_type": "code",
   "execution_count": null,
   "metadata": {},
   "outputs": [],
   "source": [
    "output = ClassicalRegister(1, name='output')\n",
    "circuit = QuantumCircuit(input, temp, output)\n",
    "circuit.x(input) # <- set input to 1\n",
    "circuit.barrier()\n",
    "circuit += identity\n",
    "circuit.barrier()\n",
    "circuit.measure(temp, output)\n",
    "circuit.draw()"
   ]
  },
  {
   "cell_type": "code",
   "execution_count": null,
   "metadata": {},
   "outputs": [],
   "source": [
    "execute(circuit, backend=local_simulator).result().get_counts()"
   ]
  },
  {
   "cell_type": "markdown",
   "metadata": {},
   "source": [
    "## Running Deutsch's Algorithm"
   ]
  },
  {
   "cell_type": "code",
   "execution_count": null,
   "metadata": {},
   "outputs": [],
   "source": [
    "qr = QuantumRegister(2)\n",
    "cr = ClassicalRegister(1)\n",
    "circuit = QuantumCircuit(qr, cr)\n",
    "circuit.x(qr[1]);\n",
    "circuit.h(qr)\n",
    "circuit.append(oracle, [qr[0], qr[1]])\n",
    "circuit.h(qr[0])\n",
    "circuit.measure(qr[0], cr[0]);\n",
    "circuit.draw()"
   ]
  },
  {
   "cell_type": "code",
   "execution_count": null,
   "metadata": {},
   "outputs": [],
   "source": [
    "counts = execute(circuit, backend=local_simulator).result().get_counts()\n",
    "if '1' in counts:\n",
    "    print('BALANCED')\n",
    "elif '0' in counts:\n",
    "    print('CONSTANT')\n",
    "print(counts)"
   ]
  },
  {
   "cell_type": "markdown",
   "metadata": {},
   "source": [
    "# The real device!"
   ]
  },
  {
   "cell_type": "code",
   "execution_count": null,
   "metadata": {},
   "outputs": [],
   "source": [
    "from qiskit.providers.ibmq import least_busy\n",
    "least_busy_device = least_busy(IBMQ.backends(simulator=False))"
   ]
  },
  {
   "cell_type": "code",
   "execution_count": null,
   "metadata": {},
   "outputs": [],
   "source": [
    "counts = execute(circuit, backend=least_busy_device).result().get_counts()\n",
    "print(counts)"
   ]
  },
  {
   "cell_type": "code",
   "execution_count": null,
   "metadata": {},
   "outputs": [],
   "source": [
    "%qiskit_backend_overview"
   ]
  },
  {
   "cell_type": "code",
   "execution_count": null,
   "metadata": {},
   "outputs": [],
   "source": [
    "ibmqx2 = IBMQ.get_backend('ibmqx2')\n",
    "%qiskit_backend_monitor ibmqx2"
   ]
  },
  {
   "cell_type": "code",
   "execution_count": null,
   "metadata": {},
   "outputs": [],
   "source": []
  }
 ],
 "metadata": {
  "kernelspec": {
   "display_name": "Python 3",
   "language": "python",
   "name": "python3"
  },
  "language_info": {
   "codemirror_mode": {
    "name": "ipython",
    "version": 3
   },
   "file_extension": ".py",
   "mimetype": "text/x-python",
   "name": "python",
   "nbconvert_exporter": "python",
   "pygments_lexer": "ipython3",
   "version": "3.7.3"
  }
 },
 "nbformat": 4,
 "nbformat_minor": 2
}
